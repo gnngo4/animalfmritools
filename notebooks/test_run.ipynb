{
 "cells": [
  {
   "cell_type": "code",
   "execution_count": null,
   "id": "d2787ab1-e40a-4fa7-8661-9199eda62f2d",
   "metadata": {},
   "outputs": [],
   "source": [
    "from pathlib import Path\n",
    "\n",
    "\n",
    "# Functions\n",
    "def pathlib_startswith(_path, _str):\n",
    "    return str(_path.stem).startswith(_str)\n",
    "\n",
    "\n",
    "def get_top_level_directories(directory, str_filter=\"sub-\"):\n",
    "    top_level_directories = []\n",
    "    for entry in directory.iterdir():\n",
    "        if entry.is_dir() and pathlib_startswith(entry, str_filter):\n",
    "            top_level_directories.append(entry.stem)\n",
    "\n",
    "    return top_level_directories\n",
    "\n",
    "\n",
    "def get_sub_ses_info(directory):\n",
    "    sub_ses_info = dict()\n",
    "    sub_ids = get_top_level_directories(directory)\n",
    "    for sub_id in sub_ids:\n",
    "        sub_dir = directory / sub_id\n",
    "        sub_ses_info[sub_id] = get_top_level_directories(sub_dir, str_filter=\"ses-\")\n",
    "\n",
    "    return sub_ses_info\n",
    "\n",
    "\n",
    "# Base variables\n",
    "DERIV_DIR_BASENAME = \"bold_preproc\"\n",
    "RUN = \"/opt/animalfmritools/animalfmritools/cli/run.py\""
   ]
  },
  {
   "cell_type": "markdown",
   "id": "7fef998a-0da7-4db5-bb87-b6bd202618bf",
   "metadata": {},
   "source": [
    "#### MouseAD"
   ]
  },
  {
   "cell_type": "code",
   "execution_count": null,
   "id": "eb944af3-8165-4b76-b05e-130fcd099d20",
   "metadata": {
    "scrolled": true
   },
   "outputs": [],
   "source": [
    "BIDS_DIR = Path(\"/opt/animalfmritools/animalfmritools/data/MouseAD/bids\")\n",
    "for sub_id, ses_ids in get_sub_ses_info(BIDS_DIR).items():\n",
    "    for ses_id in ses_ids:\n",
    "        DERIV_DIR = BIDS_DIR / \"derivatives\" / DERIV_DIR_BASENAME\n",
    "        SUB_SES_DIR = DERIV_DIR / sub_id / ses_id\n",
    "        if not SUB_SES_DIR.exists():\n",
    "            print(f\"Processing {sub_id}_{ses_id}.\")\n",
    "            !python3 {RUN} \\\n",
    "            --subject_id {sub_id.split('sub-')[-1]} \\\n",
    "            --session_id {ses_id.split('ses-')[-1]} \\\n",
    "            --bids_dir {BIDS_DIR} \\\n",
    "            --out_dir {DERIV_DIR}\n",
    "        else:\n",
    "            print(f\"{sub_id}_{ses_id} already processed.\\nSkipping.\")"
   ]
  },
  {
   "cell_type": "markdown",
   "id": "dbb3877b-bb8b-4309-bc22-6365d05c212c",
   "metadata": {},
   "source": [
    "#### MouseConcussion"
   ]
  },
  {
   "cell_type": "code",
   "execution_count": null,
   "id": "634de808-8694-42b7-b9ec-f0f3971bd020",
   "metadata": {
    "scrolled": true
   },
   "outputs": [],
   "source": [
    "BIDS_DIR = Path(\"/opt/animalfmritools/animalfmritools/data/MouseConcussion/bids\")\n",
    "for sub_id, ses_ids in get_sub_ses_info(BIDS_DIR).items():\n",
    "    for ses_id in ses_ids:\n",
    "        DERIV_DIR = BIDS_DIR / \"derivatives\" / DERIV_DIR_BASENAME\n",
    "        SUB_SES_DIR = DERIV_DIR / sub_id / ses_id\n",
    "        if not SUB_SES_DIR.exists():\n",
    "            print(f\"Processing {sub_id}_{ses_id}.\")\n",
    "            !python3 {RUN} \\\n",
    "            --subject_id {sub_id.split('sub-')[-1]} \\\n",
    "            --session_id {ses_id.split('ses-')[-1]} \\\n",
    "            --bids_dir {BIDS_DIR} \\\n",
    "            --out_dir {DERIV_DIR}\n",
    "        else:\n",
    "            print(f\"{sub_id}_{ses_id} already processed.\\nSkipping.\")"
   ]
  },
  {
   "cell_type": "markdown",
   "id": "18e73ece-67e6-49c7-885e-9a0697b533ee",
   "metadata": {},
   "source": [
    "#### MouseAwake"
   ]
  },
  {
   "cell_type": "code",
   "execution_count": null,
   "id": "ae93f61b-197c-47e0-891e-094a3261a0c5",
   "metadata": {
    "scrolled": true
   },
   "outputs": [],
   "source": [
    "BIDS_DIR = Path(\"/opt/animalfmritools/animalfmritools/data/MouseAwake/bids\")\n",
    "for sub_id, ses_ids in get_sub_ses_info(BIDS_DIR).items():\n",
    "    for ses_id in ses_ids:\n",
    "        DERIV_DIR = BIDS_DIR / \"derivatives\" / DERIV_DIR_BASENAME\n",
    "        SUB_SES_DIR = DERIV_DIR / sub_id / ses_id\n",
    "        if not SUB_SES_DIR.exists():\n",
    "            print(f\"Processing {sub_id}_{ses_id}.\")\n",
    "            !python3 {RUN} \\\n",
    "            --subject_id {sub_id.split('sub-')[-1]} \\\n",
    "            --session_id {ses_id.split('ses-')[-1]} \\\n",
    "            --bids_dir {BIDS_DIR} \\\n",
    "            --out_dir {DERIV_DIR}\n",
    "        else:\n",
    "            print(f\"{sub_id}_{ses_id} already processed.\\nSkipping.\")"
   ]
  },
  {
   "cell_type": "code",
   "execution_count": null,
   "id": "434115b0-ec7e-4054-85aa-73e2f7e799d3",
   "metadata": {},
   "outputs": [],
   "source": [
    "\"\"\"\n",
    "import matplotlib.pyplot as plt\n",
    "import numpy as np\n",
    "import math\n",
    "fig, axs = plt.subplots(ncols=2)\n",
    "f=0.2\n",
    "period = 1/f\n",
    "TR = 1.64\n",
    "duration = math.floor(4 * 60 / TR) * TR\n",
    "n_tps = int(duration / TR)\n",
    "t = np.linspace(0, duration, n_tps + 1)\n",
    "y = np.sin(2*np.pi*f*t)\n",
    "axs[0].scatter(t,y)\n",
    "axs[1].scatter(t%period,y)\n",
    "\"\"\""
   ]
  },
  {
   "cell_type": "code",
   "execution_count": null,
   "id": "6d9d65ec-50d5-479e-ae20-d333af3d5a61",
   "metadata": {},
   "outputs": [],
   "source": []
  }
 ],
 "metadata": {
  "kernelspec": {
   "display_name": "Python 3 (ipykernel)",
   "language": "python",
   "name": "python3"
  },
  "language_info": {
   "codemirror_mode": {
    "name": "ipython",
    "version": 3
   },
   "file_extension": ".py",
   "mimetype": "text/x-python",
   "name": "python",
   "nbconvert_exporter": "python",
   "pygments_lexer": "ipython3",
   "version": "3.10.6"
  }
 },
 "nbformat": 4,
 "nbformat_minor": 5
}
