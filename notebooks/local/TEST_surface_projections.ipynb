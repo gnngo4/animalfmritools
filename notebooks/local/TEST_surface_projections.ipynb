{
 "cells": [
  {
   "cell_type": "markdown",
   "id": "4071f412-e013-4727-b2dc-5a96fef6abf0",
   "metadata": {},
   "source": [
    "#### Test surface projection\n",
    "    - Surfaces taken from https://github.com/cirmuw/EvolutionOfCorticalShape\n",
    "    - only provides outer/pial surface\n",
    "    - creation of inner surface follows https://github.com/cirmuw/EvolutionOfCorticalShape/blob/main/_mapping_tutorial/map_mouse_aba_to_civm_to_cprf.sh\n"
   ]
  },
  {
   "cell_type": "code",
   "execution_count": 1,
   "id": "9e409260-001b-43bc-95d0-8250695ccaed",
   "metadata": {},
   "outputs": [
    {
     "name": "stdout",
     "output_type": "stream",
     "text": [
      "README.txt\n",
      "sub-043ABA_species-Mus+musculus_hemi-L.inner.surf.gii\n",
      "sub-043ABA_species-Mus+musculus_hemi-L.outer.surf.gii\n",
      "sub-043ABA_species-Mus+musculus_hemi-L.sphere\n",
      "sub-043ABA_species-Mus+musculus_hemi-L.sphere.surf.gii\n",
      "sub-043ABA_species-Mus+musculus_hemi-L.surf\n",
      "sub-043ABA_species-Mus+musculus_hemi-L.surf.gii\n",
      "sub-043ABA_species-Mus+musculus_hemi-L_topo-Homo.sapiens.sphere\n",
      "sub-043ABA_species-Mus+musculus_hemi-L_topo-Homo.sapiens.sphere.reg\n",
      "sub-043ABA_species-Mus+musculus_hemi-L_topo-Homo.sapiens.sphere.reg.surf.gii\n",
      "sub-043ABA_species-Mus+musculus_hemi-L_topo-Homo.sapiens.sphere.surf.gii\n",
      "sub-043ABA_species-Mus+musculus_hemi-L_topo-Homo.sapiens.surf\n",
      "sub-043ABA_species-Mus+musculus_hemi-L_topo-Homo.sapiens.surf.gii\n",
      "sub-043ABA_species-Mus+musculus_hemi-R.inner.surf.gii\n",
      "sub-043ABA_species-Mus+musculus_hemi-R.outer.surf.gii\n",
      "sub-043ABA_species-Mus+musculus_hemi-R.sphere\n",
      "sub-043ABA_species-Mus+musculus_hemi-R.sphere.surf.gii\n",
      "sub-043ABA_species-Mus+musculus_hemi-R.surf\n",
      "sub-043ABA_species-Mus+musculus_hemi-R.surf.gii\n",
      "sub-043ABA_species-Mus+musculus_hemi-R_topo-Homo.sapiens.sphere\n",
      "sub-043ABA_species-Mus+musculus_hemi-R_topo-Homo.sapiens.sphere.reg\n",
      "sub-043ABA_species-Mus+musculus_hemi-R_topo-Homo.sapiens.sphere.reg.surf.gii\n",
      "sub-043ABA_species-Mus+musculus_hemi-R_topo-Homo.sapiens.sphere.surf.gii\n",
      "sub-043ABA_species-Mus+musculus_hemi-R_topo-Homo.sapiens.surf\n",
      "sub-043ABA_species-Mus+musculus_hemi-R_topo-Homo.sapiens.surf.gii\n"
     ]
    }
   ],
   "source": [
    "from pathlib import Path\n",
    "\n",
    "mouse_aba_dir = Path(\"/opt/animalfmritools/animalfmritools/data_template/MouseABA\")\n",
    "mouse_aba_surfaces = mouse_aba_dir / \"surfaces\"\n",
    "\n",
    "!ls {mouse_aba_surfaces}"
   ]
  },
  {
   "cell_type": "code",
   "execution_count": 2,
   "id": "f05bfab1",
   "metadata": {},
   "outputs": [
    {
     "name": "stdout",
     "output_type": "stream",
     "text": [
      "parsed 'x-0.5*y' as 'x - (0.5 * y)'\n",
      "parsed 'x-0.5*y' as 'x - (0.5 * y)'\n"
     ]
    }
   ],
   "source": [
    "# Pial surface\n",
    "L_surface = mouse_aba_surfaces / \"sub-043ABA_species-Mus+musculus_hemi-L.surf.gii\"\n",
    "R_surface = mouse_aba_surfaces / \"sub-043ABA_species-Mus+musculus_hemi-R.surf.gii\"\n",
    "\n",
    "offset = 0.5\n",
    "\n",
    "for hemi, surface in zip([\"L\", \"R\"], [L_surface, R_surface]):\n",
    "\n",
    "    # Generate a pseudo cortical ribbon around the provided pial surface\n",
    "    surface_metric = str(surface).replace(\"surf.gii\", \"func.gii\")\n",
    "    !wb_command -surface-coordinates-to-metric {surface} {surface_metric} # convert to metric file\n",
    "\n",
    "    surface_norm = str(surface).replace(\"surf.gii\", \"normals.func.gii\")\n",
    "    !wb_command -surface-normals {surface} {surface_norm} # generate surface normals\n",
    "\n",
    "    # generate inner ribbon file\n",
    "    inner = str(surface).replace(\"surf.gii\", f\"inner.func.gii\")\n",
    "    inner_surf = str(surface).replace(\"surf.gii\", f\"inner.surf.gii\")\n",
    "    outer_surf = str(surface).replace(\"surf.gii\", f\"outer.surf.gii\")\n",
    "    !wb_command -metric-math x-{offset}*y {inner} -var x {surface_metric} -var y {surface_norm}\n",
    "    !wb_command -surface-set-coordinates {surface} {inner} {inner_surf}\n",
    "    !cp {surface} {outer_surf}\n",
    "\n",
    "    # set structure\n",
    "    for ix, s in enumerate([inner_surf, outer_surf]):\n",
    "\n",
    "        if ix == 0:\n",
    "            secondary_type = \"GRAY_WHITE\"\n",
    "        elif ix == 1:\n",
    "            secondary_type = \"PIAL\"\n",
    "        else:\n",
    "            raise ValueError(\"`ix` must be 0 or 1.\")\n",
    "\n",
    "        if hemi == 'L':\n",
    "            structure = \"CORTEX_LEFT\"\n",
    "        elif hemi == 'R':\n",
    "            structure = \"CORTEX_RIGHT\"\n",
    "        else:\n",
    "            raise ValueError(\"`hemi` must be L or R.\")\n",
    "\n",
    "        !wb_command -set-structure {s} {structure} -surface-type ANATOMICAL -surface-secondary-type {secondary_type}\n",
    "\n",
    "    # inflate surfaces\n",
    "    inflated = outer_surf.replace(\".outer.\", \".inflated.\")\n",
    "    very_inflated = outer_surf.replace(\".outer.\", \".very_inflated.\")\n",
    "    !wb_command -surface-generate-inflated {outer_surf} {inflated} {very_inflated}\n",
    "    \n",
    "    # clean-up\n",
    "    !rm {surface_metric} {surface_norm} {inner}"
   ]
  },
  {
   "cell_type": "code",
   "execution_count": 3,
   "id": "16de4700",
   "metadata": {},
   "outputs": [
    {
     "name": "stdout",
     "output_type": "stream",
     "text": [
      "README.txt\n",
      "sub-043ABA_species-Mus+musculus_hemi-L.inflated.surf.gii\n",
      "sub-043ABA_species-Mus+musculus_hemi-L.inner.surf.gii\n",
      "sub-043ABA_species-Mus+musculus_hemi-L.outer.surf.gii\n",
      "sub-043ABA_species-Mus+musculus_hemi-L.sphere\n",
      "sub-043ABA_species-Mus+musculus_hemi-L.sphere.surf.gii\n",
      "sub-043ABA_species-Mus+musculus_hemi-L.surf\n",
      "sub-043ABA_species-Mus+musculus_hemi-L.surf.gii\n",
      "sub-043ABA_species-Mus+musculus_hemi-L.very_inflated.surf.gii\n",
      "sub-043ABA_species-Mus+musculus_hemi-L_topo-Homo.sapiens.sphere\n",
      "sub-043ABA_species-Mus+musculus_hemi-L_topo-Homo.sapiens.sphere.reg\n",
      "sub-043ABA_species-Mus+musculus_hemi-L_topo-Homo.sapiens.sphere.reg.surf.gii\n",
      "sub-043ABA_species-Mus+musculus_hemi-L_topo-Homo.sapiens.sphere.surf.gii\n",
      "sub-043ABA_species-Mus+musculus_hemi-L_topo-Homo.sapiens.surf\n",
      "sub-043ABA_species-Mus+musculus_hemi-L_topo-Homo.sapiens.surf.gii\n",
      "sub-043ABA_species-Mus+musculus_hemi-R.inflated.surf.gii\n",
      "sub-043ABA_species-Mus+musculus_hemi-R.inner.surf.gii\n",
      "sub-043ABA_species-Mus+musculus_hemi-R.outer.surf.gii\n",
      "sub-043ABA_species-Mus+musculus_hemi-R.sphere\n",
      "sub-043ABA_species-Mus+musculus_hemi-R.sphere.surf.gii\n",
      "sub-043ABA_species-Mus+musculus_hemi-R.surf\n",
      "sub-043ABA_species-Mus+musculus_hemi-R.surf.gii\n",
      "sub-043ABA_species-Mus+musculus_hemi-R.very_inflated.surf.gii\n",
      "sub-043ABA_species-Mus+musculus_hemi-R_topo-Homo.sapiens.sphere\n",
      "sub-043ABA_species-Mus+musculus_hemi-R_topo-Homo.sapiens.sphere.reg\n",
      "sub-043ABA_species-Mus+musculus_hemi-R_topo-Homo.sapiens.sphere.reg.surf.gii\n",
      "sub-043ABA_species-Mus+musculus_hemi-R_topo-Homo.sapiens.sphere.surf.gii\n",
      "sub-043ABA_species-Mus+musculus_hemi-R_topo-Homo.sapiens.surf\n",
      "sub-043ABA_species-Mus+musculus_hemi-R_topo-Homo.sapiens.surf.gii\n"
     ]
    }
   ],
   "source": [
    "!ls {mouse_aba_surfaces}"
   ]
  },
  {
   "cell_type": "code",
   "execution_count": null,
   "id": "e3fe60f9-96e4-496c-8a6f-a4292e4e1ec3",
   "metadata": {},
   "outputs": [],
   "source": []
  }
 ],
 "metadata": {
  "kernelspec": {
   "display_name": "Python 3 (ipykernel)",
   "language": "python",
   "name": "python3"
  },
  "language_info": {
   "codemirror_mode": {
    "name": "ipython",
    "version": 3
   },
   "file_extension": ".py",
   "mimetype": "text/x-python",
   "name": "python",
   "nbconvert_exporter": "python",
   "pygments_lexer": "ipython3",
   "version": "3.10.6"
  }
 },
 "nbformat": 4,
 "nbformat_minor": 5
}
