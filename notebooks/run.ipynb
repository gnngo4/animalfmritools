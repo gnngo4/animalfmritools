{
 "cells": [
  {
   "cell_type": "code",
   "execution_count": null,
   "id": "eb52779e-fb2e-4379-8c8b-bce868804fc6",
   "metadata": {
    "scrolled": true
   },
   "outputs": [],
   "source": [
    "!python3 /opt/animalfmritools/animalfmritools/cli/run.py \\\n",
    "    --subject_id CD3103F2 \\\n",
    "    --session_id 20220601 \\\n",
    "    --bids_dir /opt/animalfmritools/animalfmritools/data/MouseAD \\\n",
    "    --out_dir /tmp/mousefmriprep"
   ]
  },
  {
   "cell_type": "code",
   "execution_count": null,
   "id": "434115b0-ec7e-4054-85aa-73e2f7e799d3",
   "metadata": {},
   "outputs": [],
   "source": [
    "\"\"\"\n",
    "import matplotlib.pyplot as plt\n",
    "import numpy as np\n",
    "import math\n",
    "fig, axs = plt.subplots(ncols=2)\n",
    "f=0.2\n",
    "period = 1/f\n",
    "TR = 1.64\n",
    "duration = math.floor(4 * 60 / TR) * TR\n",
    "n_tps = int(duration / TR)\n",
    "t = np.linspace(0, duration, n_tps + 1)\n",
    "y = np.sin(2*np.pi*f*t)\n",
    "axs[0].scatter(t,y)\n",
    "axs[1].scatter(t%period,y)\n",
    "\"\"\""
   ]
  },
  {
   "cell_type": "code",
   "execution_count": null,
   "id": "6f1e925c-7911-4338-8c5d-a30a32091d54",
   "metadata": {},
   "outputs": [],
   "source": []
  }
 ],
 "metadata": {
  "kernelspec": {
   "display_name": "Python 3 (ipykernel)",
   "language": "python",
   "name": "python3"
  },
  "language_info": {
   "codemirror_mode": {
    "name": "ipython",
    "version": 3
   },
   "file_extension": ".py",
   "mimetype": "text/x-python",
   "name": "python",
   "nbconvert_exporter": "python",
   "pygments_lexer": "ipython3",
   "version": "3.10.6"
  }
 },
 "nbformat": 4,
 "nbformat_minor": 5
}
