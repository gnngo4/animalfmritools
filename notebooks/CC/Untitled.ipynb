{
 "cells": [
  {
   "cell_type": "code",
   "execution_count": 6,
   "id": "d036a83d-23f3-4b5c-9a3f-0701e5efe666",
   "metadata": {},
   "outputs": [
    {
     "name": "stdout",
     "output_type": "stream",
     "text": [
      "anat  fmap  func  sub-CD3103F2_ses-20220601_scans.tsv\n"
     ]
    }
   ],
   "source": [
    "!ls /data/bids/sub-CD3103F2/ses-20220601"
   ]
  },
  {
   "cell_type": "code",
   "execution_count": 10,
   "id": "e644324c-a804-4634-bc0c-111b3187410f",
   "metadata": {},
   "outputs": [
    {
     "name": "stdout",
     "output_type": "stream",
     "text": [
      "@update.afni.binaries  dev\t    lib     media  root     singularity  tmp\n",
      "bin\t\t       environment  lib32   mnt    run\t    snap\t usr\n",
      "boot\t\t       etc\t    lib64   opt    sbin     srv\t\t var\n",
      "data\t\t       home\t    libx32  proc   scratch  sys\n"
     ]
    }
   ],
   "source": [
    "!ls /"
   ]
  },
  {
   "cell_type": "code",
   "execution_count": null,
   "id": "eaa07414-95e2-4963-896b-2d61098ac112",
   "metadata": {},
   "outputs": [],
   "source": []
  }
 ],
 "metadata": {
  "kernelspec": {
   "display_name": "Python 3 (ipykernel)",
   "language": "python",
   "name": "python3"
  },
  "language_info": {
   "codemirror_mode": {
    "name": "ipython",
    "version": 3
   },
   "file_extension": ".py",
   "mimetype": "text/x-python",
   "name": "python",
   "nbconvert_exporter": "python",
   "pygments_lexer": "ipython3",
   "version": "3.10.6"
  }
 },
 "nbformat": 4,
 "nbformat_minor": 5
}
