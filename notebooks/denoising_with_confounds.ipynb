{
 "cells": [
  {
   "cell_type": "code",
   "execution_count": 1,
   "id": "857364d6-6e9b-4aa3-bc2a-e62314da1e21",
   "metadata": {},
   "outputs": [],
   "source": [
    "bold = !ls /opt/animalfmritools/animalfmritools/data/MouseConcussion/bids/derivatives/bold_preproc/sub-AppTauApoe4141M2/ses-s1/func/*nii.gz\n",
    "confounds = !ls /opt/animalfmritools/animalfmritools/data/MouseConcussion/bids/derivatives/bold_preproc/sub-AppTauApoe4141M2/ses-s1/func/*tsv\n",
    "\n",
    "b, c = bold[0], confounds[0]"
   ]
  },
  {
   "cell_type": "code",
   "execution_count": 5,
   "id": "f045a403-aeb8-4cd4-a079-019d0ee8833c",
   "metadata": {},
   "outputs": [
    {
     "name": "stdout",
     "output_type": "stream",
     "text": [
      "(599, 39)\n",
      "(33, 49, 16, 599)\n",
      "['csf', 'white_matter', 'cosine00', 'cosine01', 'cosine02', 'cosine03', 'cosine04', 'cosine05', 'cosine06', 'cosine07', 'cosine08', 'cosine09', 'cosine10', 'cosine11', 'cosine12', 'trans_x', 'trans_x_derivative1', 'trans_x_derivative1_power2', 'trans_x_power2', 'trans_y', 'trans_y_derivative1', 'trans_y_power2', 'trans_y_derivative1_power2', 'trans_z', 'trans_z_derivative1', 'trans_z_derivative1_power2', 'trans_z_power2', 'rot_x', 'rot_x_derivative1', 'rot_x_derivative1_power2', 'rot_x_power2', 'rot_y', 'rot_y_derivative1', 'rot_y_derivative1_power2', 'rot_y_power2', 'rot_z', 'rot_z_derivative1', 'rot_z_derivative1_power2', 'rot_z_power2']\n"
     ]
    }
   ],
   "source": [
    "import pandas as pd\n",
    "import nibabel as nib\n",
    "\n",
    "confound_df = pd.read_csv(c, sep=\"\\t\")\n",
    "\n",
    "confound_cols = []\n",
    "for i in confound_df.columns:\n",
    "    if i == \"csf\" or i == \"white_matter\":\n",
    "        confound_cols.append(i)\n",
    "    if i.startswith(\"trans_\") or i.startswith(\"rot_\") or i.startswith(\"cosine\"):\n",
    "        confound_cols.append(i)\n",
    "\n",
    "\n",
    "regressors = confound_df.loc[1:][confound_cols].values\n",
    "print(regressors.shape)\n",
    "func_img = nib.load(b).slicer[:, :, :, 1:]\n",
    "print(func_img.shape)\n",
    "print(confound_cols)"
   ]
  },
  {
   "cell_type": "code",
   "execution_count": 3,
   "id": "86dfeb43-9c9b-4140-983b-cc4402de22a3",
   "metadata": {},
   "outputs": [],
   "source": [
    "import numpy as np\n",
    "from nilearn.image import clean_img"
   ]
  },
  {
   "cell_type": "code",
   "execution_count": 4,
   "id": "eb3c9d4b-f4d1-4458-8837-1b6177c9df4d",
   "metadata": {},
   "outputs": [
    {
     "name": "stderr",
     "output_type": "stream",
     "text": [
      "/usr/local/lib/python3.10/dist-packages/nilearn/image/image.py:1271: FutureWarning: The default strategy for standardize is currently 'zscore' which incorrectly uses population std to calculate sample zscores. The new strategy 'zscore_sample' corrects this behavior by using the sample std. In release 0.13, the default strategy will be replaced by the new strategy and the 'zscore' option will be removed. Please use 'zscore_sample' instead.\n",
      "  data = signal.clean(\n"
     ]
    }
   ],
   "source": [
    "TR = func_img.header.get_zooms()[-1]\n",
    "denoised_img = clean_img(\n",
    "    func_img,\n",
    "    confounds=regressors,\n",
    "    detrend=False,\n",
    "    standardize=True,\n",
    "    t_r=TR,\n",
    ")\n",
    "\n",
    "denoised_data = denoised_img.get_fdata()\n",
    "mean_data = func_img.get_fdata().mean(axis=3)[:, :, :, np.newaxis]\n",
    "denoised_data += mean_data\n",
    "denoised_img = nib.Nifti1Image(\n",
    "    denoised_data, affine=denoised_img.affine, header=denoised_img.header\n",
    ")\n",
    "nib.save(denoised_img, \"denoised.nii.gz\")"
   ]
  },
  {
   "cell_type": "code",
   "execution_count": null,
   "id": "7eaa2b49-1e72-463d-919b-13305acdb643",
   "metadata": {},
   "outputs": [],
   "source": []
  }
 ],
 "metadata": {
  "kernelspec": {
   "display_name": "Python 3 (ipykernel)",
   "language": "python",
   "name": "python3"
  },
  "language_info": {
   "codemirror_mode": {
    "name": "ipython",
    "version": 3
   },
   "file_extension": ".py",
   "mimetype": "text/x-python",
   "name": "python",
   "nbconvert_exporter": "python",
   "pygments_lexer": "ipython3",
   "version": "3.10.6"
  }
 },
 "nbformat": 4,
 "nbformat_minor": 5
}
