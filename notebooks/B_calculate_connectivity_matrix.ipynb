{
 "cells": [
  {
   "cell_type": "code",
   "execution_count": null,
   "id": "c672cedd-5c16-4e1a-aa9d-f55bdd8b0547",
   "metadata": {},
   "outputs": [],
   "source": [
    "from typing import List\n",
    "import itertools\n",
    "import nibabel as nib\n",
    "import numpy as np\n",
    "\n",
    "def extract_roi_name(nifti_path: str) -> str:\n",
    "    \n",
    "    assert '_roi-' in nifti_path\n",
    "    \n",
    "    return str(nifti_path).split('_roi-')[1].split('.nii.gz')[0]\n",
    "\n",
    "def get_empty_template(nifti_path: str) -> np.ndarray:\n",
    "\n",
    "    return np.zeros(nib.load(nifti_path).shape)\n",
    "\n",
    "def create_roi_array(roi_index, roi_path, hemi_path, hemi_idx) -> np.ndarray:\n",
    "\n",
    "    # Load data\n",
    "    roi_data = (nib.load(roi_path).get_fdata() > 0).astype(int)\n",
    "    hemi_data = nib.load(hemi_path).get_fdata()\n",
    "    \n",
    "    # Remove opposite hemisphere depending on label\n",
    "    hemi_data[np.where(hemi_data != hemi_idx)] = 0\n",
    "    hemi_data[np.where(hemi_data == hemi_idx)] = 1\n",
    "    \n",
    "    # Filter roi data with hemisphere\n",
    "    roi_data = roi_data * hemi_data\n",
    "\n",
    "    # Label roi data\n",
    "    roi_data *= roi_index\n",
    "    \n",
    "    return roi_data\n",
    "    \n",
    "    \n",
    "\n",
    "def create_atlas(roi_nifti_list: List, hemi_nifti: str, out_dir: str = \"/tmp/mouse_atlas.nii.gz\"):\n",
    "    \n",
    "    # `hemi_nifti` annotates RH with idx == 2 and LH with idx == 1\n",
    "    hemi_mapping = {\n",
    "        'RH': 2,\n",
    "        'LH': 1,\n",
    "    }\n",
    "\n",
    "    # Instantiate empty atlas array (to be filled in)\n",
    "    merged_atlas = get_empty_template(roi_nifti_list[0])\n",
    "    atlas_annotations = [] # Set up empty annotation list\n",
    "    \n",
    "    for ix, (roi_nifti, hemi_label) in enumerate(itertools.product(roi_nifti_list, hemi_mapping.keys())):\n",
    "\n",
    "        ix = ix + 1\n",
    "        hemi_idx = hemi_mapping[hemi_label]\n",
    "        \n",
    "        # All niftis must be the same shape as the empty atlas array\n",
    "        assert nib.load(roi_nifti).shape == merged_atlas.shape\n",
    "\n",
    "        # Add reannotated ROI to a single array\n",
    "        merged_atlas += create_roi_array(ix, roi_nifti, hemi_nifti, hemi_idx)\n",
    "        # Add label to atlas annotations\n",
    "        roi_label = extract_roi_name(roi_nifti)\n",
    "        atlas_annotations.append( (ix, f\"{roi_label}_{hemi_label}\") )\n",
    "\n",
    "    # Round\n",
    "    merged_atlas = np.round(merged_atlas)\n",
    "    \n",
    "    # Save\n",
    "    template_img = nib.load(roi_nifti_list[0])\n",
    "    merged_atlas_img = nib.Nifti1Image(\n",
    "        merged_atlas, \n",
    "        affine=template_img.affine, \n",
    "        header = template_img.header\n",
    "    )\n",
    "    nib.save(merged_atlas_img, out_dir)\n",
    "\n",
    "    return atlas_annotations, out_dir\n",
    "\n",
    "def check_labels_in_atlas(atlas_annots, atlas_path):\n",
    "\n",
    "    import nibabel as nib\n",
    "    atlas_data = np.round(nib.load(atlas_path).get_fdata())\n",
    "    unique_labels = np.unique(atlas_data)\n",
    "    for roi_idx, roi_label in atlas_annots:\n",
    "        if roi_idx not in unique_labels:\n",
    "            print(f\"[WARNING] {roi_label} [{roi_idx}] not in atlas.\")"
   ]
  },
  {
   "cell_type": "code",
   "execution_count": null,
   "id": "e6082159-a66c-4774-a941-70fd3df6b0f1",
   "metadata": {
    "scrolled": true
   },
   "outputs": [],
   "source": [
    "hemi_nifti = \"/opt/animalfmritools/animalfmritools/data_template/MouseABA/roi-hemispheres_space-P56_downsample2.nii.gz\" # RH == 2 & LH == 1\n",
    "CH = !ls /opt/animalfmritools/animalfmritools/data_template/MouseABA/rois/*desc-CH*\n",
    "BS = !ls /opt/animalfmritools/animalfmritools/data_template/MouseABA/rois/*desc-BS*\n",
    "\n",
    "atlas_annots, atlas_nifti = create_atlas(CH, hemi_nifti)"
   ]
  },
  {
   "cell_type": "code",
   "execution_count": null,
   "id": "8d9f8b8e-95ef-4a16-8f6a-ffb3ef2b4f83",
   "metadata": {},
   "outputs": [],
   "source": [
    "from pathlib import Path\n",
    "bolds = !ls /opt/animalfmritools/animalfmritools/data/MouseAD/bids/derivatives/bold_preproc/sub-*/ses-*/func/*desc-denoised_bold.nii.gz\n",
    "\n",
    "\n",
    "for bold in bolds:\n",
    "    \n",
    "    bold = Path(bold)\n",
    "    sub_id = bold.stem.split('sub-')[1].split('_')[0]\n",
    "    ses_id = bold.stem.split('ses-')[1].split('_')[0]\n",
    "    run_id = bold.stem.split('run-')[1].split('_')[0]\n",
    "\n",
    "    resliced_atlas_path = Path(f\"/tmp/sub-{sub_id}_ses-{ses_id}_atlas.nii.gz\")\n",
    "    \n",
    "    \n",
    "    # Reslice atlas to subject's templace space\n",
    "    if not resliced_atlas_path.exists():\n",
    "        print(f\"Reference: {bold.stem}\")\n",
    "        !flirt -in {atlas_nifti} -ref {bold} -out {resliced_atlas_path} -interp nearestneighbour -applyxfm -usesqform\n",
    "\n",
    "    if run_id == '01':\n",
    "        print(resliced_atlas_path)\n",
    "        check_labels_in_atlas(atlas_annots, resliced_atlas_path)\n",
    " \n",
    "    "
   ]
  },
  {
   "cell_type": "code",
   "execution_count": 1,
   "id": "7f746025-1e13-4280-8351-170ff6e632bf",
   "metadata": {},
   "outputs": [
    {
     "name": "stdout",
     "output_type": "stream",
     "text": [
      "/tmp/sub-CD3103F2_ses-20220601_atlas.nii.gz\n",
      "/tmp/sub-CD379M2_ses-20211110_atlas.nii.gz\n",
      "/tmp/sub-FGD41F3_ses-20220511_atlas.nii.gz\n",
      "/tmp/sub-FGD43M3_ses-20220414_atlas.nii.gz\n",
      "\n",
      ".:\n",
      "A_denoise_preprocessed_data.ipynb      CC\t\t     test_run.ipynb\n",
      "B_calculate_connectivity_matrix.ipynb  mouse_template.ipynb\n"
     ]
    }
   ],
   "source": [
    "!ls /tmp/sub*nii.gz ."
   ]
  },
  {
   "cell_type": "code",
   "execution_count": null,
   "id": "5b0cc9ad-5e7e-44ec-a091-e378279bd2e2",
   "metadata": {},
   "outputs": [],
   "source": []
  }
 ],
 "metadata": {
  "kernelspec": {
   "display_name": "Python 3 (ipykernel)",
   "language": "python",
   "name": "python3"
  },
  "language_info": {
   "codemirror_mode": {
    "name": "ipython",
    "version": 3
   },
   "file_extension": ".py",
   "mimetype": "text/x-python",
   "name": "python",
   "nbconvert_exporter": "python",
   "pygments_lexer": "ipython3",
   "version": "3.10.6"
  }
 },
 "nbformat": 4,
 "nbformat_minor": 5
}
